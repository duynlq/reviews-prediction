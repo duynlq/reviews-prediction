{
 "cells": [
  {
   "cell_type": "markdown",
   "metadata": {},
   "source": [
    "## Libraries"
   ]
  },
  {
   "cell_type": "code",
   "execution_count": 13,
   "metadata": {},
   "outputs": [],
   "source": [
    "import pandas as pd\n",
    "import numpy as np\n",
    "import seaborn as sns\n",
    "from sklearn.model_selection import train_test_split, GridSearchCV\n",
    "from nltk.tokenize import RegexpTokenizer\n",
    "from nltk.corpus import stopwords, wordnet\n",
    "from stop_words import get_stop_words\n",
    "from nltk import pos_tag\n",
    "from nltk.stem import WordNetLemmatizer\n",
    "from sklearn.feature_extraction.text import TfidfVectorizer\n",
    "from sklearn.metrics import accuracy_score, precision_score, f1_score, recall_score, confusion_matrix, classification_report, make_scorer  # noqa: E501\n",
    "from sklearn.decomposition import PCA\n",
    "from sklearn import linear_model\n",
    "from sklearn.preprocessing import MinMaxScaler\n",
    "from sklearn.pipeline import Pipeline"
   ]
  },
  {
   "cell_type": "markdown",
   "metadata": {},
   "source": [
    "## EDA"
   ]
  },
  {
   "cell_type": "code",
   "execution_count": 14,
   "metadata": {},
   "outputs": [
    {
     "data": {
      "text/html": [
       "<div>\n",
       "<style scoped>\n",
       "    .dataframe tbody tr th:only-of-type {\n",
       "        vertical-align: middle;\n",
       "    }\n",
       "\n",
       "    .dataframe tbody tr th {\n",
       "        vertical-align: top;\n",
       "    }\n",
       "\n",
       "    .dataframe thead th {\n",
       "        text-align: right;\n",
       "    }\n",
       "</style>\n",
       "<table border=\"1\" class=\"dataframe\">\n",
       "  <thead>\n",
       "    <tr style=\"text-align: right;\">\n",
       "      <th></th>\n",
       "      <th>hotel_name</th>\n",
       "      <th>processed_review</th>\n",
       "      <th>date_stayed</th>\n",
       "      <th>trip_type</th>\n",
       "      <th>processed_rating</th>\n",
       "    </tr>\n",
       "  </thead>\n",
       "  <tbody>\n",
       "    <tr>\n",
       "      <th>0</th>\n",
       "      <td>Fairmont Austin</td>\n",
       "      <td>great service and food sebastian was our serve...</td>\n",
       "      <td>August 2023</td>\n",
       "      <td>with family</td>\n",
       "      <td>50</td>\n",
       "    </tr>\n",
       "    <tr>\n",
       "      <th>1</th>\n",
       "      <td>Fairmont Austin</td>\n",
       "      <td>the gold level service was incredible i hate w...</td>\n",
       "      <td>February 2023</td>\n",
       "      <td>with family</td>\n",
       "      <td>50</td>\n",
       "    </tr>\n",
       "    <tr>\n",
       "      <th>2</th>\n",
       "      <td>Fairmont Austin</td>\n",
       "      <td>fantastic experience over batfest weekend firs...</td>\n",
       "      <td>August 2023</td>\n",
       "      <td>as a couple</td>\n",
       "      <td>50</td>\n",
       "    </tr>\n",
       "    <tr>\n",
       "      <th>3</th>\n",
       "      <td>Fairmont Austin</td>\n",
       "      <td>excellent service great amenities my husband a...</td>\n",
       "      <td>August 2023</td>\n",
       "      <td>on business</td>\n",
       "      <td>50</td>\n",
       "    </tr>\n",
       "    <tr>\n",
       "      <th>4</th>\n",
       "      <td>Fairmont Austin</td>\n",
       "      <td>fabulous feet from awesome pedicure i had a pe...</td>\n",
       "      <td>August 2023</td>\n",
       "      <td>on business</td>\n",
       "      <td>50</td>\n",
       "    </tr>\n",
       "  </tbody>\n",
       "</table>\n",
       "</div>"
      ],
      "text/plain": [
       "        hotel_name                                   processed_review  \\\n",
       "0  Fairmont Austin  great service and food sebastian was our serve...   \n",
       "1  Fairmont Austin  the gold level service was incredible i hate w...   \n",
       "2  Fairmont Austin  fantastic experience over batfest weekend firs...   \n",
       "3  Fairmont Austin  excellent service great amenities my husband a...   \n",
       "4  Fairmont Austin  fabulous feet from awesome pedicure i had a pe...   \n",
       "\n",
       "     date_stayed    trip_type  processed_rating  \n",
       "0    August 2023  with family                50  \n",
       "1  February 2023  with family                50  \n",
       "2    August 2023  as a couple                50  \n",
       "3    August 2023  on business                50  \n",
       "4    August 2023  on business                50  "
      ]
     },
     "execution_count": 14,
     "metadata": {},
     "output_type": "execute_result"
    }
   ],
   "source": [
    "df = pd.read_csv('reviews.csv')\n",
    "df.head()"
   ]
  },
  {
   "cell_type": "markdown",
   "metadata": {},
   "source": [
    "##### Create new column \"rating\" based on 50 to 5.0, and so on\n",
    "##### Creating new column \"churn\" based on if \"processed_rating\" is > 35"
   ]
  },
  {
   "cell_type": "code",
   "execution_count": 15,
   "metadata": {},
   "outputs": [
    {
     "data": {
      "text/html": [
       "<div>\n",
       "<style scoped>\n",
       "    .dataframe tbody tr th:only-of-type {\n",
       "        vertical-align: middle;\n",
       "    }\n",
       "\n",
       "    .dataframe tbody tr th {\n",
       "        vertical-align: top;\n",
       "    }\n",
       "\n",
       "    .dataframe thead th {\n",
       "        text-align: right;\n",
       "    }\n",
       "</style>\n",
       "<table border=\"1\" class=\"dataframe\">\n",
       "  <thead>\n",
       "    <tr style=\"text-align: right;\">\n",
       "      <th></th>\n",
       "      <th>hotel_name</th>\n",
       "      <th>processed_review</th>\n",
       "      <th>date_stayed</th>\n",
       "      <th>trip_type</th>\n",
       "      <th>processed_rating</th>\n",
       "      <th>rating</th>\n",
       "      <th>churn</th>\n",
       "    </tr>\n",
       "  </thead>\n",
       "  <tbody>\n",
       "    <tr>\n",
       "      <th>0</th>\n",
       "      <td>Fairmont Austin</td>\n",
       "      <td>great service and food sebastian was our serve...</td>\n",
       "      <td>August 2023</td>\n",
       "      <td>with family</td>\n",
       "      <td>50</td>\n",
       "      <td>5.0</td>\n",
       "      <td>non-churn</td>\n",
       "    </tr>\n",
       "    <tr>\n",
       "      <th>1</th>\n",
       "      <td>Fairmont Austin</td>\n",
       "      <td>the gold level service was incredible i hate w...</td>\n",
       "      <td>February 2023</td>\n",
       "      <td>with family</td>\n",
       "      <td>50</td>\n",
       "      <td>5.0</td>\n",
       "      <td>non-churn</td>\n",
       "    </tr>\n",
       "    <tr>\n",
       "      <th>2</th>\n",
       "      <td>Fairmont Austin</td>\n",
       "      <td>fantastic experience over batfest weekend firs...</td>\n",
       "      <td>August 2023</td>\n",
       "      <td>as a couple</td>\n",
       "      <td>50</td>\n",
       "      <td>5.0</td>\n",
       "      <td>non-churn</td>\n",
       "    </tr>\n",
       "    <tr>\n",
       "      <th>3</th>\n",
       "      <td>Fairmont Austin</td>\n",
       "      <td>excellent service great amenities my husband a...</td>\n",
       "      <td>August 2023</td>\n",
       "      <td>on business</td>\n",
       "      <td>50</td>\n",
       "      <td>5.0</td>\n",
       "      <td>non-churn</td>\n",
       "    </tr>\n",
       "    <tr>\n",
       "      <th>4</th>\n",
       "      <td>Fairmont Austin</td>\n",
       "      <td>fabulous feet from awesome pedicure i had a pe...</td>\n",
       "      <td>August 2023</td>\n",
       "      <td>on business</td>\n",
       "      <td>50</td>\n",
       "      <td>5.0</td>\n",
       "      <td>non-churn</td>\n",
       "    </tr>\n",
       "  </tbody>\n",
       "</table>\n",
       "</div>"
      ],
      "text/plain": [
       "        hotel_name                                   processed_review  \\\n",
       "0  Fairmont Austin  great service and food sebastian was our serve...   \n",
       "1  Fairmont Austin  the gold level service was incredible i hate w...   \n",
       "2  Fairmont Austin  fantastic experience over batfest weekend firs...   \n",
       "3  Fairmont Austin  excellent service great amenities my husband a...   \n",
       "4  Fairmont Austin  fabulous feet from awesome pedicure i had a pe...   \n",
       "\n",
       "     date_stayed    trip_type  processed_rating  rating      churn  \n",
       "0    August 2023  with family                50     5.0  non-churn  \n",
       "1  February 2023  with family                50     5.0  non-churn  \n",
       "2    August 2023  as a couple                50     5.0  non-churn  \n",
       "3    August 2023  on business                50     5.0  non-churn  \n",
       "4    August 2023  on business                50     5.0  non-churn  "
      ]
     },
     "execution_count": 15,
     "metadata": {},
     "output_type": "execute_result"
    }
   ],
   "source": [
    "df['rating'] = df['processed_rating']/10\n",
    "df['churn'] = df['rating'].apply(lambda x: 'non-churn' if x > 3.5 else 'churn')\n",
    "df.head()"
   ]
  },
  {
   "cell_type": "code",
   "execution_count": 16,
   "metadata": {},
   "outputs": [
    {
     "data": {
      "text/plain": [
       "Text(0.5, 1.0, 'Review Count by Rating')"
      ]
     },
     "execution_count": 16,
     "metadata": {},
     "output_type": "execute_result"
    },
    {
     "data": {
      "image/png": "[encoded data removed]",
      "text/plain": [
       "<Figure size 640x480 with 1 Axes>"
      ]
     },
     "metadata": {},
     "output_type": "display_data"
    }
   ],
   "source": [
    "grouped = df.groupby('churn')['churn'].count()\n",
    "sns.barplot(x = grouped.index, y = grouped.values, palette='mako').set_title('Review Count by Rating')"
   ]
  },
  {
   "cell_type": "markdown",
   "metadata": {},
   "source": [
    "## Tokenize \"processed_review\""
   ]
  },
  {
   "cell_type": "code",
   "execution_count": 17,
   "metadata": {},
   "outputs": [],
   "source": [
    "sw = stopwords.words('english')\n",
    "\n",
    "def get_wordnet_pos(treebank_tag):\n",
    "\n",
    "    if treebank_tag.startswith('J'):\n",
    "        return wordnet.ADJ\n",
    "    elif treebank_tag.startswith('V'):\n",
    "        return wordnet.VERB\n",
    "    elif treebank_tag.startswith('N'):\n",
    "        return wordnet.NOUN\n",
    "    elif treebank_tag.startswith('R'):\n",
    "        return wordnet.ADV\n",
    "    else:\n",
    "        return wordnet.NOUN\n",
    "\n",
    "def doc_preparer(doc, stop_words=sw):\n",
    "    \n",
    "    regex_token = RegexpTokenizer(r\"([a-zA-Z]+(?:’[a-z]+)?)\")\n",
    "    doc = regex_token.tokenize(doc)\n",
    "    doc = [word.lower() for word in doc]\n",
    "    doc = [word for word in doc if word not in sw]\n",
    "    doc = pos_tag(doc)\n",
    "    doc = [(word[0], get_wordnet_pos(word[1])) for word in doc]\n",
    "    lemmatizer = WordNetLemmatizer() \n",
    "    doc = [lemmatizer.lemmatize(word[0], word[1]) for word in doc]\n",
    "    return ' '.join(doc)\n",
    "\n",
    "df['tokenized_review'] = df['processed_review'].apply(doc_preparer)"
   ]
  },
  {
   "cell_type": "markdown",
   "metadata": {},
   "source": [
    "## Pre-modeling - Train Test Split"
   ]
  },
  {
   "cell_type": "code",
   "execution_count": 18,
   "metadata": {},
   "outputs": [],
   "source": [
    "X = df['tokenized_review']\n",
    "y = df['churn']\n",
    "\n",
    "X_train, X_test, y_train, y_test =  train_test_split(X, y, train_size= .7, random_state= 760397, stratify = y)"
   ]
  },
  {
   "cell_type": "markdown",
   "metadata": {},
   "source": [
    "## Vectorizing\n",
    "Cutting off the top 10% and bottom 5% of words in vectorized documents to keep the more meaningful words."
   ]
  },
  {
   "cell_type": "code",
   "execution_count": 19,
   "metadata": {},
   "outputs": [],
   "source": [
    "tfidf_train = TfidfVectorizer(sublinear_tf=True, max_df=.9, min_df=.05,  ngram_range=(1, 1))\n",
    "train_features = tfidf_train.fit_transform(X_train).toarray()\n",
    "test_features = tfidf_train.transform(X_test).toarray()\n",
    "\n",
    "# wm = tfidf_train.fit_transform(X_train)\n",
    "# tokens = tfidf_train.get_feature_names_out()\n",
    "\n",
    "# wm.shape\n",
    "# doc_names = ['Doc{:d}'.format(idx) for idx, _ in enumerate(wm)]\n",
    "# data = pd.DataFrame(data=wm.toarray(), index=doc_names,\n",
    "#                   columns=tokens)\n",
    "# data.mean().sort_values()"
   ]
  },
  {
   "cell_type": "markdown",
   "metadata": {},
   "source": [
    "## PCA"
   ]
  },
  {
   "cell_type": "code",
   "execution_count": 20,
   "metadata": {},
   "outputs": [],
   "source": [
    "pca = PCA(n_components=0.9, random_state=1)\n",
    "\n",
    "pca_train = pca.fit_transform(train_features)\n",
    "pca_test = pca.transform(test_features)"
   ]
  },
  {
   "cell_type": "markdown",
   "metadata": {},
   "source": [
    "## Modeling"
   ]
  },
  {
   "cell_type": "markdown",
   "metadata": {},
   "source": [
    "##### Evaluation Function"
   ]
  },
  {
   "cell_type": "code",
   "execution_count": 21,
   "metadata": {},
   "outputs": [],
   "source": [
    "def metrics_score(train_preds, y_train, test_preds, y_test):\n",
    "    print(f\"Training Accuracy:\\t{accuracy_score(y_train, train_preds):.4}\",\n",
    "          f\"\\tTesting Accuracy:\\t{accuracy_score(y_test, test_preds):.4}\")\n",
    "    print(f\"Training Precision:\\t{precision_score(y_train, train_preds, average='weighted'):.4}\",\n",
    "          f\"\\tTesting Precision:\\t{precision_score(y_test, test_preds, average='weighted'):.4}\")\n",
    "    print(f\"Training Recall:\\t{recall_score(y_train, train_preds, average='weighted'):.4}\",\n",
    "          f\"\\tTesting Recall:\\t\\t{recall_score(y_test, test_preds, average='weighted'):.4}\")\n",
    "    print(f\"Training F1:\\t\\t{f1_score(y_train, train_preds, average='weighted'):.4}\",\n",
    "          f\"\\tTesting F1:\\t\\t{f1_score(y_test, test_preds, average='weighted'):.4}\")"
   ]
  },
  {
   "cell_type": "markdown",
   "metadata": {},
   "source": [
    "## Logistic Regression\n",
    "Pipelining standard scaler and params of logistic regression"
   ]
  },
  {
   "cell_type": "code",
   "execution_count": 22,
   "metadata": {},
   "outputs": [
    {
     "name": "stdout",
     "output_type": "stream",
     "text": [
      "Fitting 5 folds for each of 20 candidates, totalling 100 fits\n",
      "Best params: {'LR__C': 1.0, 'LR__max_iter': 100, 'LR__penalty': 'l2'}\n",
      "[[182  49]\n",
      " [ 25 348]]\n",
      "              precision    recall  f1-score   support\n",
      "\n",
      "       churn       0.79      0.88      0.83       207\n",
      "   non-churn       0.93      0.88      0.90       397\n",
      "\n",
      "    accuracy                           0.88       604\n",
      "   macro avg       0.86      0.88      0.87       604\n",
      "weighted avg       0.88      0.88      0.88       604\n",
      "\n",
      "Top 10 POSITIVE Features by Importance:\n",
      "Word: great\tCoefficient: 4.551379903194395\n",
      "Word: austin\tCoefficient: 2.976765962782513\n",
      "Word: helpful\tCoefficient: 2.8891227211438433\n",
      "Word: wonderful\tCoefficient: 2.6249945357814712\n",
      "Word: excellent\tCoefficient: 2.617987440877126\n",
      "Word: perfect\tCoefficient: 2.5812470774927703\n",
      "Word: love\tCoefficient: 2.2747705346564135\n",
      "Word: amaze\tCoefficient: 2.2094499619146233\n",
      "Word: enjoy\tCoefficient: 2.1924662710816873\n",
      "Word: comfortable\tCoefficient: 2.1081093825081076\n",
      "\n",
      "\n",
      "Top 10 NEGATIVE Features by Importance:\n",
      "Word: say\tCoefficient: -1.3056887732499016\n",
      "Word: old\tCoefficient: -1.3249159130775185\n",
      "Word: door\tCoefficient: -1.3637667697844178\n",
      "Word: get\tCoefficient: -1.3959607971665022\n",
      "Word: ask\tCoefficient: -1.443650117897834\n",
      "Word: tell\tCoefficient: -1.777417509615567\n",
      "Word: call\tCoefficient: -1.9198985817324248\n",
      "Word: never\tCoefficient: -2.047435765131388\n",
      "Word: room\tCoefficient: -2.1014418591165045\n",
      "Word: bad\tCoefficient: -2.3832784513777625\n"
     ]
    }
   ],
   "source": [
    "pipe = Pipeline(steps=[('STD_SCALER', MinMaxScaler()),\n",
    "                       ('LR', linear_model.LogisticRegression(class_weight='balanced', random_state=760397))])\n",
    "\n",
    "params = dict(LR__C=np.logspace(0, 1, 10), \n",
    "              LR__max_iter=[100],\n",
    "              LR__penalty=['none', 'l2'])\n",
    "\n",
    "LR_PCA_grid_search = GridSearchCV(estimator = pipe,\n",
    "                                  scoring = make_scorer(f1_score, average='weighted'), \n",
    "                                  param_grid = params, \n",
    "                                  cv = 5, n_jobs = -1, verbose = 2)\n",
    "\n",
    "LR_PCA_grid_search.fit(pca_train, y_train)\n",
    "# LR_PCA_train_preds = LR_PCA_grid_search.best_estimator_.predict(pca_train)\n",
    "LR_PCA_test_preds = LR_PCA_grid_search.best_estimator_.predict(pca_test)\n",
    "# metrics_score(LR_PCA_train_preds, y_train, LR_PCA_test_preds, y_test)\n",
    "print(\"Best params: \" + str(LR_PCA_grid_search.best_params_))\n",
    "\n",
    "# Confusion Matrix\n",
    "print(confusion_matrix(y_test, LR_PCA_test_preds).T)\n",
    "# sns.heatmap(confusion_matrix(y_test, LR_PCA_test_preds).T,\n",
    "#             square=True,\n",
    "#             annot=True,\n",
    "#             fmt='d',\n",
    "#             cmap=\"rocket_r\",\n",
    "#             linewidths=1).set_title('Confusion Matrix', fontsize=30)\n",
    "\n",
    "# Classification Report\n",
    "print(classification_report(y_test, LR_PCA_test_preds))\n",
    "\n",
    "# Fit the TfidfVectorizer separately\n",
    "tfidf_vectorizer = tfidf_train\n",
    "train_features_tfidf = tfidf_vectorizer.fit_transform(X_train)\n",
    "test_features_tfidf = tfidf_vectorizer.transform(X_test)\n",
    "\n",
    "# FEATURE IMPORTANCE\n",
    "# Fit the optimal logistic regression model\n",
    "logistic_pipe = linear_model.LogisticRegression(C=LR_PCA_grid_search.best_params_['LR__C'],\n",
    "                                                max_iter=LR_PCA_grid_search.best_params_['LR__max_iter'],\n",
    "                                                penalty=LR_PCA_grid_search.best_params_['LR__penalty'],\n",
    "                                                class_weight='balanced',\n",
    "                                                random_state=760397)\n",
    "lr_model = logistic_pipe.fit(train_features_tfidf, y_train)\n",
    "\n",
    "# Get the coefficients of the LR model\n",
    "lr_coefficients = lr_model.coef_[0]\n",
    "\n",
    "# Get the feature names from the TfidfVectorizer\n",
    "feature_names = tfidf_vectorizer.get_feature_names_out()\n",
    "\n",
    "# Create a DataFrame to store feature names and their corresponding coefficients\n",
    "feature_importance_df = pd.DataFrame({'Feature': feature_names, 'Coefficient': lr_coefficients})\n",
    "\n",
    "# Sort the DataFrame by coefficient magnitude to get feature importance\n",
    "sorted_feature_importance = feature_importance_df.sort_values(by='Coefficient', ascending=False)\n",
    "\n",
    "# Print the top feature importance values along with the corresponding words\n",
    "print(\"Top 10 POSITIVE Features by Importance:\")\n",
    "for index, row in sorted_feature_importance.head(10).iterrows():\n",
    "    feature_word = row['Feature']\n",
    "    coefficient = row['Coefficient']\n",
    "    print(f\"Word: {feature_word}\\tCoefficient: {coefficient}\")\n",
    "\n",
    "print('\\n')\n",
    "\n",
    "print(\"Top 10 NEGATIVE Features by Importance:\")\n",
    "for index, row in sorted_feature_importance.tail(10).iterrows():\n",
    "    feature_word = row['Feature']\n",
    "    coefficient = row['Coefficient']\n",
    "    print(f\"Word: {feature_word}\\tCoefficient: {coefficient}\")"
   ]
  },
  {
   "cell_type": "markdown",
   "metadata": {},
   "source": [
    "## Random Forest"
   ]
  },
  {
   "cell_type": "code",
   "execution_count": 23,
   "metadata": {},
   "outputs": [
    {
     "name": "stdout",
     "output_type": "stream",
     "text": [
      "Fitting 5 folds for each of 3 candidates, totalling 15 fits\n",
      "\n",
      "\n",
      "Best params: {'RF__class_weight': {'churn': 1, 'non-churn': 3}, 'RF__criterion': 'gini', 'RF__max_depth': 13, 'RF__max_features': None, 'RF__min_samples_leaf': 1, 'RF__min_samples_split': 2, 'RF__n_estimators': 200}\n",
      "[[150  33]\n",
      " [ 57 364]]\n",
      "              precision    recall  f1-score   support\n",
      "\n",
      "       churn       0.82      0.72      0.77       207\n",
      "   non-churn       0.86      0.92      0.89       397\n",
      "\n",
      "    accuracy                           0.85       604\n",
      "   macro avg       0.84      0.82      0.83       604\n",
      "weighted avg       0.85      0.85      0.85       604\n",
      "\n",
      "Top 10 POSITIVE Features by Importance:\n",
      "Word: bad\tImportance: 0.10789014152079483\n",
      "Word: call\tImportance: 0.07789673397715358\n",
      "Word: great\tImportance: 0.0681150106910451\n",
      "Word: tell\tImportance: 0.06238404514036968\n",
      "Word: room\tImportance: 0.04769926152102748\n",
      "Word: door\tImportance: 0.043751799593159744\n",
      "Word: never\tImportance: 0.03957103216265344\n",
      "Word: floor\tImportance: 0.019770769491939566\n",
      "Word: would\tImportance: 0.01821032534765256\n",
      "Word: austin\tImportance: 0.017981631201873717\n",
      "Top 10 NEGATIVE Features by Importance:\n",
      "Word: accommodate\tImportance: 0.0006555397504335189\n",
      "Word: spacious\tImportance: 0.0006252849104262008\n",
      "Word: business\tImportance: 0.0005274942262574664\n",
      "Word: enjoy\tImportance: 0.00046505202478329643\n",
      "Word: wonderful\tImportance: 0.00043035429364206746\n",
      "Word: way\tImportance: 0.0003914075142699705\n",
      "Word: downtown\tImportance: 0.0003451451518351933\n",
      "Word: trip\tImportance: 0.00033879333187265066\n",
      "Word: beautiful\tImportance: 0.00027154895693915377\n",
      "Word: free\tImportance: 0.00015248437305360798\n"
     ]
    }
   ],
   "source": [
    "from sklearn.ensemble import RandomForestClassifier\n",
    "\n",
    "rf_classifier = RandomForestClassifier(random_state=760397,\n",
    "                                       class_weight='balanced')\n",
    "\n",
    "pipe = Pipeline(steps=[\n",
    "    ('STD_SCALER', MinMaxScaler()),\n",
    "    ('RF', rf_classifier)\n",
    "])\n",
    "\n",
    "params = {\n",
    "    # 1st CV\n",
    "    # 'RF__max_features':['auto', 'sqrt', 'log2', None],\n",
    "    # 'RF__n_estimators': [300, 500, 700, 900, 1100, 1300]\n",
    "    \n",
    "    # 2nd CV\n",
    "    # 'RF__max_features':[None],\n",
    "    # 'RF__n_estimators': [200, 300, 400],\n",
    "    # 'RF__criterion': ['entropy', 'gini'],\n",
    "    # 'RF__max_depth': [7, 9, 11, 13, 15, None]\n",
    "\n",
    "    # 3rd CV\n",
    "    # 'RF__max_features':[None],\n",
    "    # 'RF__n_estimators': [100, 200, 300],\n",
    "    # 'RF__criterion': ['gini'],\n",
    "    # 'RF__max_depth': [12, 13, 14]\n",
    "\n",
    "    # 4th CV\n",
    "    # 'RF__max_features':[None],\n",
    "    # 'RF__n_estimators': [200],\n",
    "    # 'RF__criterion': ['gini'],\n",
    "    # 'RF__max_depth': [13],\n",
    "    # 'RF__min_samples_leaf': [1, 3, 5, 7],\n",
    "    # 'RF__min_samples_split': [2, 4, 6, 8]\n",
    "\n",
    "    # 5th CV\n",
    "    'RF__max_features':[None],\n",
    "    'RF__n_estimators': [200],\n",
    "    'RF__criterion': ['gini'],\n",
    "    'RF__max_depth': [13],\n",
    "    'RF__min_samples_leaf': [1],\n",
    "    'RF__min_samples_split': [2],\n",
    "    'RF__class_weight':[{'churn':1, 'non-churn':1}, \n",
    "                        {'churn':1, 'non-churn':2}, \n",
    "                        {'churn':1, 'non-churn':3}]\n",
    "}\n",
    "\n",
    "RF_PCA_grid_search = GridSearchCV(\n",
    "    estimator=pipe,\n",
    "    scoring=make_scorer(f1_score, average='weighted'),\n",
    "    param_grid=params,\n",
    "    cv=5, n_jobs=-1, verbose=2\n",
    ")\n",
    "\n",
    "RF_PCA_grid_search.fit(pca_train, y_train)\n",
    "RF_PCA_train_preds = RF_PCA_grid_search.best_estimator_.predict(pca_train)\n",
    "RF_PCA_test_preds = RF_PCA_grid_search.best_estimator_.predict(pca_test)\n",
    "\n",
    "print('\\n')\n",
    "# metrics_score(RF_PCA_train_preds, y_train, RF_PCA_test_preds, y_test)\n",
    "print(\"Best params: \" + str(RF_PCA_grid_search.best_params_))\n",
    "print(confusion_matrix(y_test, RF_PCA_test_preds).T)\n",
    "print(classification_report(y_test, RF_PCA_test_preds))\n",
    "\n",
    "# FEATURE IMPORTANCE\n",
    "# Fit the optimal logistic regression model\n",
    "RF_pipe = RandomForestClassifier(class_weight=RF_PCA_grid_search.best_params_['RF__class_weight'],\n",
    "                                 criterion=RF_PCA_grid_search.best_params_['RF__criterion'],\n",
    "                                 max_depth=RF_PCA_grid_search.best_params_['RF__max_depth'],\n",
    "                                 max_features=RF_PCA_grid_search.best_params_['RF__max_features'],\n",
    "                                 min_samples_leaf=RF_PCA_grid_search.best_params_['RF__min_samples_leaf'],\n",
    "                                 min_samples_split=RF_PCA_grid_search.best_params_['RF__min_samples_split'],\n",
    "                                 n_estimators=RF_PCA_grid_search.best_params_['RF__n_estimators'],\n",
    "                                 n_jobs=-1, random_state=760397)\n",
    "RF_model = RF_pipe.fit(train_features_tfidf, y_train)\n",
    "\n",
    "# Get the feature importances\n",
    "feature_importances = RF_model.feature_importances_\n",
    "\n",
    "# Get the feature names from the TfidfVectorizer\n",
    "feature_names = tfidf_vectorizer.get_feature_names_out()\n",
    "\n",
    "# Create a DataFrame to store feature names and their corresponding importances\n",
    "feature_importance_df = pd.DataFrame({'Feature': feature_names, 'Importance': feature_importances})\n",
    "\n",
    "# Sort the DataFrame by importance magnitude to get feature importance\n",
    "sorted_feature_importance = feature_importance_df.sort_values(by='Importance', ascending=False)\n",
    "\n",
    "# Print the top feature importance values along with the corresponding words\n",
    "print(\"Top 10 POSITIVE Features by Importance:\")\n",
    "for index, row in sorted_feature_importance.head(10).iterrows():\n",
    "    feature_word = row['Feature']\n",
    "    importance = row['Importance']\n",
    "    print(f\"Word: {feature_word}\\tImportance: {importance}\")\n",
    "\n",
    "print(\"Top 10 NEGATIVE Features by Importance:\")\n",
    "for index, row in sorted_feature_importance.tail(10).iterrows():\n",
    "    feature_word = row['Feature']\n",
    "    importance = row['Importance']\n",
    "    print(f\"Word: {feature_word}\\tImportance: {importance}\")\n"
   ]
  },
  {
   "cell_type": "markdown",
   "metadata": {},
   "source": [
    "## Predicting A New Review"
   ]
  },
  {
   "cell_type": "code",
   "execution_count": 45,
   "metadata": {},
   "outputs": [],
   "source": [
    "# 3rd entry of reviews.csv\n",
    "title = \"The Gold level service was incredible\"\n",
    "review = \"I hate writing reviews but this experience was so good I couldn't not. A big reason is that we left something in the room at check out and the staff found it and has kept it for us. We booked to stay for seven nights in a one bedroom with our two young daughters on the gold level which was the best idea. From the doorman who shuttled us to the gold level where we were able to check in while the kids enjoyed refreshments after a long travel day to the staff in the lunch itself who revealed a games cabinet. We loved it so much (and it was snowing back home) we stayed another four nights in the Grand Suite which was even better. It was huge and came with its own kitchen! Without going to long, the pool was always warm, the drinks were always cold, and the staff was always…\"\n",
    "# non-churn"
   ]
  },
  {
   "cell_type": "code",
   "execution_count": 43,
   "metadata": {},
   "outputs": [],
   "source": [
    "# Random 1 star review\n",
    "title = \"Worst hotel ever!!\"\n",
    "review = \"Horrible experience. Horrible. Upon walking into the room it was hot, sticky and smelled bad-musty. There were two hard, crusty stains on the carpet that they had hardly even tried to clean up, the carpet overall was dirty. The shower leaked and the toilet sounded like a screaming jet engine. They have absolutely no channels on the tv. Their WiFi was trash. The pillows, sheets and comforter smelled old and like someone else’s sweat. They advertise and tell you at check in that they have in room services such as food but they do not. We couldn’t even get bottled water, which was horrid after being on a plane for 10 hours to get there —-we were thirsty. The walls are paper thin so you hear everything including people yelling all night. The rooms are not clean, there is an inch…\"\n",
    "# churn"
   ]
  },
  {
   "cell_type": "code",
   "execution_count": 41,
   "metadata": {},
   "outputs": [],
   "source": [
    "# Chat-GPT POSITIVE review using negative words (new chat)\n",
    "title = \"\"\"An Unforgettable Hotel Experience: Love It or... \"Love\" It More?\"\"\"\n",
    "review = \"\"\"Let me tell you about my recent stay at this hotel, which was an experience I won't soon forget. From the moment I arrived, I was greeted with a level of \"uniqueness\" that I can only describe as \"hatefully unforgettable.\"\n",
    "\n",
    "Let's delve into the rooms, shall we? The term \"cozy\" takes on a whole new meaning here. It's like they've redefined the concept of personal space to mean \"nonexistent.\" If you're someone who \"loves\" the idea of having to navigate around furniture with the precision of a tightrope walker, then you're in for a treat.\n",
    "\n",
    "The staff – oh, where do I begin with them? Their \"enthusiasm\" is truly something to behold, especially if you have a passion for witnessing people who take customer service to a whole new level of \"uncontainable enthusiasm.\" It's almost as if they're on a mission to make you question your own sanity.\n",
    "\n",
    "And let's not forget the dining experience. The menu is a masterclass in \"unconventional\" culinary choices. Each dish seems to be an experiment in combining ingredients that were never meant to meet. If you've ever \"hated\" the idea of a meal making logical sense, this place will reaffirm your beliefs.\n",
    "\n",
    "As for the hotel's interior design, it's a \"worse\" version of eclectic. The clash of \"vintage\" and \"modern\" elements creates an atmosphere that can only be described as \"hatefully fascinating.\" It's like someone picked out pieces from various time periods blindfolded and hoped for the best.\n",
    "\n",
    "In conclusion, if you're the type of person who relishes in the idea of an experience that you'll \"love\" to recount as the epitome of the word \"unique,\" then this hotel should be at the top of your list. It's a \"worse\" nightmare for those who appreciate the conventional, and a \"hateful\" dream for those who live for the offbeat.\"\"\"\n",
    "# churn\n"
   ]
  },
  {
   "cell_type": "code",
   "execution_count": 39,
   "metadata": {},
   "outputs": [],
   "source": [
    "# Chat-GPT NEGATIVE review using positive words (new chat2)\n",
    "title = \"Absolutely loved my stay at this hotel.\"\n",
    "review = \"The incredible attention to detail was mind-boggling - from the exquisitely clean and spacious room to the overly friendly and accommodating staff who just wouldn't give me a moment of peace. And let's not forget the endless array of amenities that made me feel like I was drowning in luxury. The breathtaking view from my window was such a distraction that I couldn't even concentrate on my work. And the food? Oh, don't even get me started on the gourmet meals that left me in a state of constant overindulgence. I must say, I was utterly overwhelmed by the constant pampering and care. Can't wait to never stay here again!\"\n",
    "# churn (false positive but this text from Chat-GPT is weird)"
   ]
  },
  {
   "cell_type": "code",
   "execution_count": 34,
   "metadata": {},
   "outputs": [],
   "source": [
    "# 2nd Chat-GPT POSITIVE review using negative words (used chat2)\n",
    "title = \"I must admit, my stay at this hotel was quite the experience.\"\n",
    "review = \"The room I was assigned was a real masterpiece of inconvenience and discomfort. The bed felt like a slab of concrete designed to challenge my ability to sleep, and the lack of air conditioning turned the room into a cozy sauna, perfect for a hot yoga session. The staff, bless their hearts, were always available to chat, making it nearly impossible for me to have a moment of solitude. The view from my window showcased the bustling construction site next door, providing a constant reminder of urban chaos. And the food? Well, let's just say that my taste buds were treated to a symphony of unique flavors that I won't soon forget – mostly because they were all so incredibly unappetizing. Despite these minor setbacks, I truly appreciated the hotel's commitment to providing an unforgettable and character-building stay.\"\n",
    "# non-churn"
   ]
  },
  {
   "cell_type": "code",
   "execution_count": 32,
   "metadata": {},
   "outputs": [],
   "source": [
    "# 3rd Chat-GPT POSITIVE review using negative words (new chat3)\n",
    "title = \"\"\"A Diamond in the Rough\"\"\"\n",
    "review = \"\"\"I recently had the opportunity to stay at this hotel, and I must admit, I was initially taken aback by some minor aspects. However, as my stay progressed, I realized that there's much more to this place than meets the eye.\n",
    "\n",
    "While the check-in process seemed a bit slow due to a sudden influx of guests, the staff managed to handle the situation with remarkable poise and professionalism. Despite a momentary inconvenience, their attentive demeanor turned my initial frustration into admiration for their dedication to ensuring a smooth experience for everyone.\n",
    "\n",
    "The room I was assigned had a quaint charm to it, although it appeared to be in need of a little updating. But what truly caught my attention was the impeccable cleanliness – it was evident that the housekeeping team took their responsibilities seriously. Although the view from the window was less than spectacular, I found solace in the serenity and comfort that the room provided.\n",
    "\n",
    "The dining experience had its hiccups, with a limited menu that left me wanting more variety. Nevertheless, the flavors of the dishes served were quite delightful. The restaurant staff, while a bit overwhelmed, managed to provide a warm and welcoming atmosphere that made me feel right at home.\n",
    "\n",
    "One area that could use improvement is the spa facilities. The offerings were somewhat underwhelming, and I had hoped for a more extensive range of treatments. However, the therapists displayed expertise and skill, making the spa visit a rejuvenating experience despite the limited options.\n",
    "\n",
    "All in all, my stay at this hotel was a valuable lesson in looking beyond initial impressions. The challenges I encountered were overshadowed by the exceptional efforts of the staff, who went above and beyond to ensure my comfort. With a few adjustments, this hotel has the potential to become an absolute gem in the hospitality industry. I left with a sense of gratitude for the positive aspects that shone through the initial setbacks, and I look forward to witnessing the growth of this establishment in the future.\"\"\"\n",
    "# non-churn"
   ]
  },
  {
   "cell_type": "code",
   "execution_count": 30,
   "metadata": {},
   "outputs": [],
   "source": [
    "# 4th Chat-GPT POSITIVE review using negative words (new chat4)\n",
    "title = \"\"\n",
    "review = \"I must admit, my initial impression of the hotel wasn't the best due to a minor delay during check-in, which left me slightly frustrated. However, I'm delighted to share that the rest of my stay completely turned things around. The staff went above and beyond to rectify the situation, ensuring that my room was not only spacious and comfortable but also impeccably clean. I was pleasantly surprised by the variety of dining options available, which more than made up for the initial inconvenience. Additionally, the central location of the hotel meant that I had easy access to all the attractions I wanted to visit. While the start might not have been perfect, the exceptional service and overall experience definitely won me over.\"\n",
    "# non-churn"
   ]
  },
  {
   "cell_type": "code",
   "execution_count": 46,
   "metadata": {},
   "outputs": [
    {
     "name": "stdout",
     "output_type": "stream",
     "text": [
      "the gold level service was incredible i hate writing reviews but this experience was so good i couldn t not a big reason is that we left something in the room at check out and the staff found it and has kept it for us we booked to stay for seven nights in a one bedroom with our two young daughters on the gold level which was the best idea from the doorman who shuttled us to the gold level where we were able to check in while the kids enjoyed refreshments after a long travel day to the staff in the lunch itself who revealed a games cabinet we loved it so much and it was snowing back home we stayed another four nights in the grand suite which was even better it was huge and came with its own kitchen without going to long the pool was always warm the drinks were always cold and the staff was always\n",
      "['non-churn']\n"
     ]
    }
   ],
   "source": [
    "# START ALGORITHM\n",
    "# Define a list of stop words\n",
    "stop_words = list(get_stop_words('en'))  # About 900 stopwords\n",
    "nltk_words = list(stopwords.words('english'))  # About 150 stopwords\n",
    "punctuations = [\".\", \"'\", \",\"]\n",
    "stop_words.extend(nltk_words + punctuations)\n",
    "\n",
    "# Replicating the raw scraped-review text\n",
    "reviewWithTitle = \" \".join((title.strip(), review.strip()))  # noqa: E501\n",
    "\n",
    "# Replicating the tokenizing\n",
    "tokenizer = RegexpTokenizer(r'\\w+')\n",
    "word_list = tokenizer.tokenize(reviewWithTitle.lower())\n",
    "output = [w for w in word_list if not w in stop_words]  # noqa: E501\n",
    "new_review = ' '.join(word_list)\n",
    "print(new_review)\n",
    "# Create blank dataframe for new_review\n",
    "df2 = pd.DataFrame(['new_review'])\n",
    "df2['new_review'] = new_review\n",
    "tokenized_new_review = df2['new_review'].apply(doc_preparer)\n",
    "\n",
    "# Replicating the vectorizing\n",
    "new_test_features = tfidf_train.transform(tokenized_new_review).toarray()\n",
    "\n",
    "# Replicating the pca\n",
    "new_pca_test = pca.transform(new_test_features)\n",
    "\n",
    "# Using the optimal LR model to predict our new review\n",
    "# new_preds = LR_PCA_grid_search.best_estimator_.predict(new_pca_test)\n",
    "new_preds = RF_PCA_grid_search.best_estimator_.predict(new_pca_test)\n",
    "\n",
    "# Print prediction\n",
    "print(new_preds)"
   ]
  },
  {
   "cell_type": "code",
   "execution_count": null,
   "metadata": {},
   "outputs": [],
   "source": []
  }
 ],
 "metadata": {
  "kernelspec": {
   "display_name": "Python 3",
   "language": "python",
   "name": "python3"
  },
  "language_info": {
   "codemirror_mode": {
    "name": "ipython",
    "version": 3
   },
   "file_extension": ".py",
   "mimetype": "text/x-python",
   "name": "python",
   "nbconvert_exporter": "python",
   "pygments_lexer": "ipython3",
   "version": "3.10.7"
  },
  "orig_nbformat": 4
 },
 "nbformat": 4,
 "nbformat_minor": 2
}
